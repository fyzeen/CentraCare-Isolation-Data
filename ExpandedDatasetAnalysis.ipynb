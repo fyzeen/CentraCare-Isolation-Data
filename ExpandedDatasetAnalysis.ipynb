{
 "cells": [
  {
   "cell_type": "code",
   "execution_count": 17,
   "id": "4533b8de",
   "metadata": {},
   "outputs": [],
   "source": [
    "# importing modules\n",
    "import pandas as pd\n",
    "import numpy as np\n",
    "import matplotlib.pyplot as plt\n",
    "from statsmodels.stats.proportion import test_proportions_2indep\n",
    "from scipy.stats import ttest_ind\n",
    "from scipy.interpolate import UnivariateSpline\n",
    "import json\n",
    "from urllib.request import urlopen\n",
    "import plotly.express as px"
   ]
  },
  {
   "cell_type": "code",
   "execution_count": 109,
   "id": "a5fda3b7",
   "metadata": {},
   "outputs": [],
   "source": [
    "df = pd.read_csv(\"./data/CentracareSocialIsolation_CLEANED.csv\", index_col=0)"
   ]
  },
  {
   "cell_type": "markdown",
   "id": "c0c78c08",
   "metadata": {},
   "source": [
    "### Brief Documentation \n",
    "Each bullet point describes the data stored in each column of `df`\n",
    "* **ID**\n",
    "    * A unique identifier for each subject\n",
    "\n",
    "* **Active Care Coordination**\n",
    "    * `\"1\"`, if patient is in active care coordination\n",
    "    * `\"0\"`, if patient is *not* in active care coordination\n",
    "\n",
    "* **Age**\n",
    "    * Patient's age at time of taking questionairre\n",
    "    \n",
    "* **Alcoholism**\n",
    "    * `\"Y\"`, if patient suffers from alcholims\n",
    "    * `nan`, if patient does *not* suffer from alcholism\n",
    "\n",
    "* **CHF**\n",
    "    * `\"Y\"`, if patient suffers from congestive heart failure\n",
    "    * `nan`, if patient does *not* suffer from congestive heart failure\n",
    "\n",
    "* **COPD**\n",
    "    * `\"Yes\"`, if patient suffers from chronic obstructive pulmonary disease (COPD)\n",
    "    * `nan`, if patient does *not* suffer from chronic obstructive pulmonary disease (COPD)\n",
    "\n",
    "* **Depression**\n",
    "    * `\"Yes\"`, if patient suffers from depression\n",
    "    * `nan`, if patient does *not* suffer from depression\n",
    "\n",
    "* **Diabetes**\n",
    "    * `\"Yes\"`, if patient suffers from diabetes\n",
    "    * `nan`, if patient does *not* suffer from diabetes\n",
    " \n",
    "* **Ethnicity**\n",
    "    * `\"Non-Hispanic\"`, if non-Hispanic\n",
    "    * `\"Hispanic\"`, if Hispanic\n",
    "    * `\"Unknown\"`, if unknown ethnicity\n",
    "    * `\"Choose Not to Disclose\"`, if patient chose not to disclose\n",
    "    * `nan`, if unkown\n",
    "\n",
    "* **Gender**\n",
    "    * `\"M\"`, if male\n",
    "    * `\"F\"`, if female\n",
    "    * `\"X\"`, if unspecific\n",
    "    * `\"U\"`, if undisclosed\n",
    "    \n",
    "* **HTN**\n",
    "    * `\"Yes\"`, if patient suffers from hypertension\n",
    "    * `nan`, if patient does *not* suffer from hypertension\n",
    "\n",
    "* **Language**\n",
    "    * Patient's primary language\n",
    "    * `\"Unable to Obtain`, `\"Unknown\"`, and `\"Unable to Read\"` are included\n",
    "\n",
    "* **LGB**\n",
    "    * `\"G\"`, if gay\n",
    "    * `\"L\"`, if lesbian\n",
    "    * `nan`, if heterosexual *or* other\n",
    "\n",
    "* **PCP Department**\n",
    "    * Patient's primary care department *and/or* where the questionairre was taken\n",
    "    * `nan`, if unable to obtain\n",
    "\n",
    "* **Race**\n",
    "    * Patient's race\n",
    "    * `nan`, if unable to obtain\n",
    "    \n",
    "* **Tobacco Use**\n",
    "    * `\"Yes`, if patient regularly uses tobacco\n",
    "    * `\"No\"`, if patient does *not* regularly use tobacco\n",
    "    * `\"Passive\"`, if patient passively inhales tobacco (e.g., lives with someone who smokes)\n",
    "    * `nan`, if unable to obtain\n",
    "\n",
    "* **vape_user**\n",
    "    * `\"Y\"`, if patient regularly uses a vape\n",
    "    * `\"N\"`, if patient does *not* regularly use a vape\n",
    "    \n",
    "* **Zipcode**\n",
    "    * Patient's home zipcode\n",
    "    * `nan`, if unable to obtain\n",
    "    \n",
    "---\n",
    "### OLD\n",
    "* **FLO_MEAS_ID**\n",
    "    * A unique number associated with each question, relevant to CentraCare\n",
    "\n",
    "* **Last Date**\n",
    "    * Likely related to the date on which patietn responded to questionairre\n",
    "\n",
    "* **DISP_NAME**\n",
    "    * The question asked to patient (text)\n",
    "\n",
    "* **MEAS_VALUE**\n",
    "    * Encoded patient response to question\n",
    "    * `nan` if patient did not answer\n",
    "\n",
    "* **MEAS_VALUE_EXTERNAL**\n",
    "    * Decoded patient response to question (text)\n",
    "    * `nan` if patient did not answer"
   ]
  },
  {
   "cell_type": "code",
   "execution_count": 110,
   "id": "977a132c",
   "metadata": {},
   "outputs": [
    {
     "data": {
      "text/plain": [
       "(array([2259., 2883., 2756., 2711., 3006., 3194., 3405., 3602., 3750.,\n",
       "        3412., 3295., 4077., 4140., 4871., 5298., 5300., 5410., 5150.,\n",
       "        4066., 3053., 2465., 1871., 1409.,  839.,  489.,  237.,  127.]),\n",
       " array([18, 21, 24, 27, 30, 33, 36, 39, 42, 45, 48, 51, 54, 57, 60, 63, 66,\n",
       "        69, 72, 75, 78, 81, 84, 87, 90, 93, 96, 99]),\n",
       " <BarContainer object of 27 artists>)"
      ]
     },
     "execution_count": 110,
     "metadata": {},
     "output_type": "execute_result"
    },
    {
     "data": {
      "image/png": "[encoded data removed]",
      "text/plain": [
       "<Figure size 640x480 with 1 Axes>"
      ]
     },
     "metadata": {},
     "output_type": "display_data"
    }
   ],
   "source": [
    "plt.hist(df[\"Age\"], np.arange(18, 100, 3), edgecolor='black', lw=1)"
   ]
  },
  {
   "cell_type": "code",
   "execution_count": null,
   "id": "d5c01c3c",
   "metadata": {},
   "outputs": [],
   "source": []
  },
  {
   "cell_type": "code",
   "execution_count": null,
   "id": "0a21ec38",
   "metadata": {},
   "outputs": [],
   "source": []
  }
 ],
 "metadata": {
  "kernelspec": {
   "display_name": "Python 3 (ipykernel)",
   "language": "python",
   "name": "python3"
  },
  "language_info": {
   "codemirror_mode": {
    "name": "ipython",
    "version": 3
   },
   "file_extension": ".py",
   "mimetype": "text/x-python",
   "name": "python",
   "nbconvert_exporter": "python",
   "pygments_lexer": "ipython3",
   "version": "3.10.4"
  }
 },
 "nbformat": 4,
 "nbformat_minor": 5
}
